{
 "cells": [
  {
   "cell_type": "code",
   "execution_count": null,
   "id": "93ef6d32",
   "metadata": {},
   "outputs": [],
   "source": [
    "import os\n",
    "import sys\n",
    "from dnacentersdk import DNACenterAPI\n",
    "\n",
    "# exporting project\n",
    "sys.path.append(os.pardir)\n",
    "from src.dnac_config import *\n",
    "from src.config_extraction import *"
   ]
  },
  {
   "cell_type": "code",
   "execution_count": null,
   "id": "362dde3e",
   "metadata": {},
   "outputs": [],
   "source": [
    "SOURCE_IP = \"\"\n",
    "DESTINATION_IP = \"\"\n",
    "\n",
    "assert SOURCE_IP != \"\", \"Please enter source IP\"\n",
    "assert DESTINATION_IP != \"\", \"Please enter destination IP\"\n",
    "assert len(SOURCE_IP.split(\".\")) == 4, \"Invalid source IP\"\n",
    "assert len(DESTINATION_IP.split(\".\")) == 4, \"Invalid destination IP\"\n",
    "\n",
    "assert DNA_CENTER \n",
    "print(DNA_CENTER)\n",
    "assert DNA_CENTER[\"username\"] != \"devnetuser\", \"*** Please update the username and password to your carleton DNAC!!!\""
   ]
  },
  {
   "cell_type": "code",
   "execution_count": null,
   "id": "1bc5debd",
   "metadata": {},
   "outputs": [],
   "source": [
    "try:\n",
    "    dna = DNACenterAPI(username=DNA_CENTER[\"username\"], \n",
    "                   password=DNA_CENTER[\"password\"], \n",
    "                   base_url=DNA_CENTER[\"host\"], \n",
    "                   version='2.2.2.3', \n",
    "                   verify=False)\n",
    "except:\n",
    "    print(\"DNAC Credential Error!!!\")"
   ]
  },
  {
   "cell_type": "markdown",
   "id": "8cd9ecd1",
   "metadata": {},
   "source": [
    "# Get device config from id"
   ]
  },
  {
   "cell_type": "code",
   "execution_count": null,
   "id": "5e0fe806",
   "metadata": {},
   "outputs": [],
   "source": [
    "source_id = dna.devices.get_network_device_by_ip(SOURCE_IP).response.id\n",
    "source_device_config = dna.devices.get_device_config_by_id(source_id).response"
   ]
  },
  {
   "cell_type": "code",
   "execution_count": null,
   "id": "d9d32106",
   "metadata": {},
   "outputs": [],
   "source": [
    "destiantion_id = dna.devices.get_network_device_by_ip(DESTINATION_IP).response.id\n",
    "\n",
    "destination_device_config = dna.devices.get_device_config_by_id(destiantion_id).response"
   ]
  },
  {
   "cell_type": "code",
   "execution_count": null,
   "id": "fed74c59",
   "metadata": {},
   "outputs": [],
   "source": [
    "# extract mapping and new config from source and destination\n",
    "new_config, mapping = get_updated_destination_config(source_device_config, destination_device_config)\n",
    "\n",
    "# save update config\n",
    "with open(updated_destiantion_path, 'w') as new_destination_file:\n",
    "    new_destination_file.write(new_config)\n",
    "\n",
    "# save mapping\n",
    "with open(destiantion_source_mapping_path, 'w') as mapping_file:\n",
    "    json.dump(mapping, mapping_file, indent = 4)"
   ]
  },
  {
   "cell_type": "code",
   "execution_count": null,
   "id": "c656f6b2",
   "metadata": {},
   "outputs": [],
   "source": [
    "print(\"Finished Updated...\")\n",
    "print(f\"Mappling location:\\t\\t{destiantion_source_mapping_path}\")\n",
    "print(f\"Updated Config Location:\\t{updated_destiantion_path}\")"
   ]
  },
  {
   "cell_type": "code",
   "execution_count": null,
   "id": "d0852322",
   "metadata": {},
   "outputs": [],
   "source": []
  }
 ],
 "metadata": {
  "kernelspec": {
   "display_name": "Python 3 (ipykernel)",
   "language": "python",
   "name": "python3"
  },
  "language_info": {
   "codemirror_mode": {
    "name": "ipython",
    "version": 3
   },
   "file_extension": ".py",
   "mimetype": "text/x-python",
   "name": "python",
   "nbconvert_exporter": "python",
   "pygments_lexer": "ipython3",
   "version": "3.8.10"
  }
 },
 "nbformat": 4,
 "nbformat_minor": 5
}
