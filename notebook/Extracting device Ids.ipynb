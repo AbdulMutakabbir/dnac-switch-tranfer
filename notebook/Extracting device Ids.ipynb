{
 "cells": [
  {
   "cell_type": "code",
   "execution_count": null,
   "id": "93ef6d32",
   "metadata": {},
   "outputs": [],
   "source": [
    "import os\n",
    "import sys\n",
    "from dnacentersdk import DNACenterAPI\n",
    "\n",
    "# exporting project\n",
    "sys.path.append(os.pardir)\n",
    "from src.dnac_config import *\n",
    "from src.config_extraction import *"
   ]
  },
  {
   "cell_type": "code",
   "execution_count": null,
   "id": "362dde3e",
   "metadata": {},
   "outputs": [],
   "source": [
    "assert DNA_CENTER \n",
    "\n",
    "DNA_CENTER"
   ]
  },
  {
   "cell_type": "code",
   "execution_count": null,
   "id": "1bc5debd",
   "metadata": {},
   "outputs": [],
   "source": [
    "try:\n",
    "    dna = DNACenterAPI(username=DNA_CENTER[\"username\"], \n",
    "                   password=DNA_CENTER[\"password\"], \n",
    "                   base_url=DNA_CENTER[\"host\"], \n",
    "                   version='2.2.2.3', \n",
    "                   verify=False)\n",
    "except:\n",
    "    print(\"DNAC Credential Error!!!\")"
   ]
  },
  {
   "cell_type": "code",
   "execution_count": null,
   "id": "9beebaab",
   "metadata": {},
   "outputs": [],
   "source": [
    "topology = dna.topology.get_physical_topology()"
   ]
  },
  {
   "cell_type": "code",
   "execution_count": null,
   "id": "49bddef3",
   "metadata": {},
   "outputs": [],
   "source": [
    "topology.response.links[0]"
   ]
  },
  {
   "cell_type": "code",
   "execution_count": null,
   "id": "c73ed145",
   "metadata": {},
   "outputs": [],
   "source": [
    "topology.response.nodes[0]"
   ]
  },
  {
   "cell_type": "code",
   "execution_count": null,
   "id": "3b4a1373",
   "metadata": {
    "scrolled": false
   },
   "outputs": [],
   "source": [
    "switch_9k_list = {}\n",
    "\n",
    "for t in topology.response.nodes:\n",
    "    if t.family == \"Switches and Hubs\":\n",
    "        t_label = t.label.split('.')[0]\n",
    "        if t_label[-2:].lower() == \"9k\":\n",
    "            switch_9k_list[t_label] = t.id\n",
    "#             print(\"{:<20} {:<12} {:<8} {:<10} {:<10}\".format(t_label, t.ip, t.family[:8], t.id[:9], t.platformId[:30]))\n",
    "#         else:\n",
    "#             print(\"$${:<20} {:<12} {:<8} {:<10} {:<10}\".format(t_label, t.ip, t.family[:8], t.id[:9], t.platformId[:30]))\n",
    "\n",
    "switch_old_list = {}\n",
    "switch_list = {}\n",
    "\n",
    "for t in topology.response.nodes:\n",
    "    t_label = t.label.split('.')[0] + \"-9K\"\n",
    "    if t_label in switch_9k_list.keys():\n",
    "        switch_list[t_label[:-3]] = t_label\n",
    "        switch_old_list[t_label[:-3]] = t.id\n",
    "            "
   ]
  },
  {
   "cell_type": "code",
   "execution_count": null,
   "id": "79668323",
   "metadata": {},
   "outputs": [],
   "source": [
    "switch_9k_list"
   ]
  },
  {
   "cell_type": "code",
   "execution_count": null,
   "id": "4af84f45",
   "metadata": {},
   "outputs": [],
   "source": [
    "switch_list"
   ]
  },
  {
   "cell_type": "code",
   "execution_count": null,
   "id": "16791cc3",
   "metadata": {
    "scrolled": true
   },
   "outputs": [],
   "source": [
    "switch_old_list"
   ]
  },
  {
   "cell_type": "code",
   "execution_count": null,
   "id": "79a0a6a6",
   "metadata": {},
   "outputs": [],
   "source": []
  }
 ],
 "metadata": {
  "kernelspec": {
   "display_name": "Python 3 (ipykernel)",
   "language": "python",
   "name": "python3"
  },
  "language_info": {
   "codemirror_mode": {
    "name": "ipython",
    "version": 3
   },
   "file_extension": ".py",
   "mimetype": "text/x-python",
   "name": "python",
   "nbconvert_exporter": "python",
   "pygments_lexer": "ipython3",
   "version": "3.8.10"
  }
 },
 "nbformat": 4,
 "nbformat_minor": 5
}
